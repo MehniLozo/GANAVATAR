{
  "nbformat": 4,
  "nbformat_minor": 0,
  "metadata": {
    "colab": {
      "provenance": []
    },
    "kernelspec": {
      "name": "python3",
      "display_name": "Python 3"
    },
    "language_info": {
      "name": "python"
    }
  },
  "cells": [
    {
      "cell_type": "code",
      "execution_count": null,
      "metadata": {
        "id": "Skj5NPRRGAz8"
      },
      "outputs": [],
      "source": [
        "try:\n",
        "  from google.colab import drive\n",
        "  #drive.amount('/content/drive', force_remount=True)\n",
        "  print(\"Google Drive mounted successfully!\")\n",
        "  %tensorflow_version 2.x\n",
        "except Exception as e:\n",
        "  print(\"Error while mounting Google Drive: {}\".format(str(e)))"
      ]
    },
    {
      "cell_type": "code",
      "source": [
        "import os,time\n",
        "import numpy as np\n",
        "from PIL import Image\n",
        "from tqdm import tqdm\n",
        "import matplotlib.pyplot as plt\n",
        "from IPython import display\n",
        "\n",
        "import tensorflow as tf\n",
        "from tensorflow.keras.layers import Input,Reshape,Dropout,Dense\n",
        "from tensorflow.keras.layers import Flatten,BatchNormalization\n",
        "from tensorflow.keras.layers import Activation,ZeroPadding2D\n",
        "from tensorflow.keras.layers import LeakyReLU\n",
        "from tensorflow.keras.layers import UpSampling2D, Conv2D, Conv2DTranspose\n",
        "from tensorflow.keras.models import Sequential, Model, load_model\n",
        "from tensorflow.keras.optimizers import Adam\n",
        "\n"
      ],
      "metadata": {
        "id": "U5PrsLYiGTpY"
      },
      "execution_count": null,
      "outputs": []
    },
    {
      "cell_type": "markdown",
      "source": [],
      "metadata": {
        "id": "HjY57zsXIu_-"
      }
    },
    {
      "cell_type": "code",
      "source": [
        "def hms_string(sec_elapsed):\n",
        "    h = int(sec_elapsed / (60 * 60))\n",
        "    m = int((sec_elapsed % (60 * 60)) / 60)\n",
        "    s = sec_elapsed % 60\n",
        "    return \"{}:{:>02}:{:>05.2f}\".format(h, m, s)"
      ],
      "metadata": {
        "id": "TNtGyjASKmfH"
      },
      "execution_count": null,
      "outputs": []
    },
    {
      "cell_type": "code",
      "source": [
        "IMAGE_CHANNELS = 3\n",
        "GENERATE_RESOLUTION_FACTOR = 3\n",
        "GENERATE_SQUARE = 32 * GENERATE_RESOLUTION_FACTOR\n",
        "\n",
        "PREVIEW_ROWS, PREVIEW_COLS = 4,7\n",
        "PREVIEW_MARGIN = 16\n",
        "\n",
        "# source vector size to generate images\n",
        "SEED_SIZE = 100\n",
        "\n",
        "# Model config\n",
        "DATA_PATH = ''\n",
        "FOLDER_NAME = 'cartoonset30k'\n",
        "\n",
        "EPOCHS = 50\n",
        "BATCH_SIZE = 64\n",
        "BUFFER_SIZE = 61000\n",
        "\n",
        "print(f\"Image details: {GENERATE_SQUARE}px\")\n"
      ],
      "metadata": {
        "id": "qxMuGo5eKtPF"
      },
      "execution_count": null,
      "outputs": []
    },
    {
      "cell_type": "code",
      "source": [
        "training_binary_path = os.path.join(DATA_PATH,\n",
        "    f'training_data_{FOLDER_NAME}_{GENERATE_SQUARE}_{GENERATE_SQUARE}.npy')\n",
        "print(\"Binary file name: \", training_binary_path)\n",
        "\n",
        "\n",
        "if not os.path.isfile(training_binary_path):\n",
        "  start = time.time()\n",
        "  print(\"File not found, loading training images...\")\n",
        "\n",
        "  training_data = []\n",
        "  faces_path = os.path.join(DATA_PATH, FOLDER_NAME)\n",
        "  faces_path_filenames = os.listdir(faces_path)\n",
        "\n",
        "  for filename in tqdm(faces_path_filenames):\n",
        "      path = os.path.join(faces_path,filename)\n",
        "      # Convert RGBA to RGB format\n",
        "      try:\n",
        "        image = Image.open(path).convert(\"RGB\").resize((GENERATE_SQUARE,GENERATE_SQUARE),Image.ANTIALIAS)\n",
        "        training_data.append(np.asarray(image))\n",
        "      except Exception as e:\n",
        "        pass"
      ],
      "metadata": {
        "id": "3QP4nfi_NV5Q"
      },
      "execution_count": null,
      "outputs": []
    }
  ]
}